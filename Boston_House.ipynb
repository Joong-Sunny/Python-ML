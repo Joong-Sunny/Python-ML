{
  "nbformat": 4,
  "nbformat_minor": 0,
  "metadata": {
    "colab": {
      "name": "Linear Regression Boston House.ipynb",
      "provenance": [],
      "collapsed_sections": []
    },
    "kernelspec": {
      "name": "python3",
      "display_name": "Python 3"
    }
  },
  "cells": [
    {
      "cell_type": "markdown",
      "metadata": {
        "id": "zUez2MOjQbAi",
        "colab_type": "text"
      },
      "source": [
        "# Numpy를 이용한 방정식 풀이"
      ]
    },
    {
      "cell_type": "code",
      "metadata": {
        "id": "biKcD7dcQa1o",
        "colab_type": "code",
        "colab": {}
      },
      "source": [
        "import numpy as np\n",
        "\n",
        "ans = (np.poly1d([2, -1])**2 + np.poly1d([3, -5])**2 + np.poly1d([5, -6])**2)\n",
        "ans"
      ],
      "execution_count": 0,
      "outputs": []
    },
    {
      "cell_type": "code",
      "metadata": {
        "id": "i7aWYJypSELw",
        "colab_type": "code",
        "colab": {}
      },
      "source": [
        "ans[0], ans[1], ans[2]"
      ],
      "execution_count": 0,
      "outputs": []
    },
    {
      "cell_type": "code",
      "metadata": {
        "id": "HJII5FcJQavX",
        "colab_type": "code",
        "colab": {}
      },
      "source": [
        "import sympy as sp\n",
        "from sympy.plotting import plot\n",
        "\n",
        "th = sp.symbols('th')\n",
        "p1 = plot(38*(th**2) - 94*th + 62, (th, -3, 6))"
      ],
      "execution_count": 0,
      "outputs": []
    },
    {
      "cell_type": "code",
      "metadata": {
        "id": "eDkHYsZGQaqb",
        "colab_type": "code",
        "colab": {}
      },
      "source": [
        "diff_th = sp.diff(38*(th**2) - 94*th + 62, th)\n",
        "diff_th"
      ],
      "execution_count": 0,
      "outputs": []
    },
    {
      "cell_type": "code",
      "metadata": {
        "id": "Aj4NYT6vQajL",
        "colab_type": "code",
        "colab": {}
      },
      "source": [
        "sp.solve(diff_th)"
      ],
      "execution_count": 0,
      "outputs": []
    },
    {
      "cell_type": "markdown",
      "metadata": {
        "id": "U2ISMdY1PO84",
        "colab_type": "text"
      },
      "source": [
        "# Boston House Price Linear Regression Model"
      ]
    },
    {
      "cell_type": "code",
      "metadata": {
        "id": "VWAbcPkHjaDR",
        "colab_type": "code",
        "colab": {}
      },
      "source": [
        "from sklearn.datasets import load_boston\n",
        "\n",
        "boston = load_boston()\n",
        "print(boston.DESCR)"
      ],
      "execution_count": 0,
      "outputs": []
    },
    {
      "cell_type": "code",
      "metadata": {
        "id": "wum950Qtn89e",
        "colab_type": "code",
        "colab": {}
      },
      "source": [
        "boston.feature_names"
      ],
      "execution_count": 0,
      "outputs": []
    },
    {
      "cell_type": "code",
      "metadata": {
        "id": "1z_Ftr68bNrY",
        "colab_type": "code",
        "colab": {}
      },
      "source": [
        "import pandas as pd\n",
        "\n",
        "boston_pd = pd.DataFrame(boston.data, columns = boston.feature_names)\n",
        "boston_pd['PRICE'] = boston.target\n",
        "\n",
        "boston_pd.head()"
      ],
      "execution_count": 0,
      "outputs": []
    },
    {
      "cell_type": "code",
      "metadata": {
        "id": "ckoy4UQxbNl5",
        "colab_type": "code",
        "colab": {}
      },
      "source": [
        "import matplotlib.pyplot as plt\n",
        "import seaborn as sns\n",
        "\n",
        "sns.set(rc={'figure.figsize':(10, 6)})\n",
        "plt.hist(boston_pd['PRICE'], bins=30)\n",
        "plt.xlabel(\"House prices in $1000\")\n",
        "plt.show()"
      ],
      "execution_count": 0,
      "outputs": []
    },
    {
      "cell_type": "code",
      "metadata": {
        "id": "Mc3vac0nbNjE",
        "colab_type": "code",
        "colab": {}
      },
      "source": [
        "correlation_matrix = boston_pd.corr().round(1)\n",
        "sns.heatmap(data=correlation_matrix, annot=True, cmap=\"bwr\")"
      ],
      "execution_count": 0,
      "outputs": []
    },
    {
      "cell_type": "markdown",
      "metadata": {
        "id": "l43ThdL6pq7i",
        "colab_type": "text"
      },
      "source": [
        "상관 행렬을 보면 LSTAT가 PRICE (-0.74)와 높은 음의 상관 관계를 갖는 것처럼 RM은 PRICE (0.7)와 강한 양의 상관 관계가 있음을 알 수 있습니다.\n",
        "선형 회귀 모형의 피처를 선택할 때 중요한 점은 다중 공선 성을 확인하는 것입니다. RAD, TAX 기능은 0.91의 상관 관계를 갖습니다. 이러한 기능 쌍은 서로 밀접하게 관련되어 있습니다. 모델에 영향을 줄 수 있습니다. 상관 관계가 -0.75 인 기능 DIS 및 AGE도 마찬가지입니다."
      ]
    },
    {
      "cell_type": "code",
      "metadata": {
        "id": "M8cVyqvjXOi9",
        "colab_type": "code",
        "colab": {}
      },
      "source": [
        "sns.set_style('darkgrid')\n",
        "fig, axs = plt.subplots(ncols=2)\n",
        "sns.regplot(x='RM', y='PRICE', data=boston_pd, ax=axs[0])\n",
        "sns.regplot(x='LSTAT', y='PRICE', data=boston_pd, ax=axs[1])"
      ],
      "execution_count": 0,
      "outputs": []
    },
    {
      "cell_type": "code",
      "metadata": {
        "id": "DNJlOzhQqFOX",
        "colab_type": "code",
        "colab": {}
      },
      "source": [
        "import numpy as np\n",
        "\n",
        "X_rooms = boston_pd['RM']\n",
        "y_price = boston_pd['PRICE']\n",
        "\n",
        "X_rooms = np.array(X_rooms).reshape(-1,1)\n",
        "\n",
        "print(X_rooms.shape)\n",
        "print(y_price.shape)"
      ],
      "execution_count": 0,
      "outputs": []
    },
    {
      "cell_type": "code",
      "metadata": {
        "id": "hIQXb2p9qqtM",
        "colab_type": "code",
        "colab": {}
      },
      "source": [
        "from sklearn.model_selection import train_test_split\n",
        "\n",
        "X_train, X_test, y_train, y_test = \\\n",
        "                    train_test_split(X_rooms, y_price, \n",
        "                                     test_size = 0.2, random_state=13)\n",
        "\n",
        "print(X_train.shape)\n",
        "print(X_test.shape)\n",
        "print(y_train.shape)\n",
        "print(y_test.shape)"
      ],
      "execution_count": 0,
      "outputs": []
    },
    {
      "cell_type": "code",
      "metadata": {
        "id": "AEDQCSxoq8wu",
        "colab_type": "code",
        "colab": {}
      },
      "source": [
        "from sklearn.linear_model import LinearRegression\n",
        "\n",
        "reg = LinearRegression()\n",
        "reg.fit(X_train, y_train)\n",
        "\n",
        "from sklearn.metrics import mean_squared_error\n",
        "\n",
        "y_train_predict = reg.predict(X_train)\n",
        "rmse = (np.sqrt(mean_squared_error(y_train, y_train_predict)))\n",
        "\n",
        "print(\"The model performance for training set\")\n",
        "print(\"--------------------------------------\")\n",
        "print('RMSE is ', rmse)"
      ],
      "execution_count": 0,
      "outputs": []
    },
    {
      "cell_type": "code",
      "metadata": {
        "id": "aTr_5Jo6rnUT",
        "colab_type": "code",
        "colab": {}
      },
      "source": [
        "y_test_predict = reg.predict(X_test)\n",
        "rmse = (np.sqrt(mean_squared_error(y_test, y_test_predict)))\n",
        "\n",
        "print(\"The model performance for test set\")\n",
        "print(\"--------------------------------------\")\n",
        "print('RMSE is ', rmse)"
      ],
      "execution_count": 0,
      "outputs": []
    },
    {
      "cell_type": "code",
      "metadata": {
        "id": "l6Jp_sCRrz39",
        "colab_type": "code",
        "colab": {}
      },
      "source": [
        "prediction_space = np.linspace(min(X_rooms), max(X_rooms)).reshape(-1,1) \n",
        "plt.scatter(X_rooms, y_price)\n",
        "plt.plot(prediction_space, reg.predict(prediction_space), \n",
        "         color = 'black', linewidth = 3)\n",
        "plt.ylabel('value of house/1000($)')\n",
        "plt.xlabel('number of rooms')\n",
        "plt.show()"
      ],
      "execution_count": 0,
      "outputs": []
    },
    {
      "cell_type": "code",
      "metadata": {
        "id": "lhktilaOr9mk",
        "colab_type": "code",
        "colab": {}
      },
      "source": [
        "X = boston_pd.drop('PRICE', axis = 1)\n",
        "y = boston_pd['PRICE']\n",
        "\n",
        "X_train, X_test, y_train, y_test = \\\n",
        "                    train_test_split(X, y, test_size=0.2, random_state=13)\n",
        "\n",
        "reg_all = LinearRegression()\n",
        "reg_all.fit(X_train, y_train)\n",
        "\n",
        "y_train_predict = reg_all.predict(X_train)\n",
        "rmse = (np.sqrt(mean_squared_error(y_train, y_train_predict)))\n",
        "\n",
        "print(\"The model performance for training set\")\n",
        "print(\"--------------------------------------\")\n",
        "print('RMSE is ', rmse)"
      ],
      "execution_count": 0,
      "outputs": []
    },
    {
      "cell_type": "code",
      "metadata": {
        "id": "HAQoXYbJscjB",
        "colab_type": "code",
        "colab": {}
      },
      "source": [
        "y_pred = reg_all.predict(X_test)\n",
        "rmse = (np.sqrt(mean_squared_error(y_test, y_pred)))\n",
        "\n",
        "print(\"The model performance for training set\")\n",
        "print(\"--------------------------------------\")\n",
        "print('RMSE is ', rmse)"
      ],
      "execution_count": 0,
      "outputs": []
    },
    {
      "cell_type": "code",
      "metadata": {
        "id": "5koVRig0sQ0T",
        "colab_type": "code",
        "colab": {}
      },
      "source": [
        "plt.scatter(y_test, y_pred)\n",
        "plt.xlabel(\"Actual House Prices ($1000)\")\n",
        "plt.ylabel(\"Predicted House Prices: ($1000)\")\n",
        "plt.title(\"Actual Prices vs Predicted prices\")\n",
        "plt.plot([0,48], [0, 48], 'r')"
      ],
      "execution_count": 0,
      "outputs": []
    },
    {
      "cell_type": "code",
      "metadata": {
        "id": "k4FoEx4hsVRQ",
        "colab_type": "code",
        "colab": {}
      },
      "source": [
        ""
      ],
      "execution_count": 0,
      "outputs": []
    }
  ]
}